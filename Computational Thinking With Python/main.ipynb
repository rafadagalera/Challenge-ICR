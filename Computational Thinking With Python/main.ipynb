{
 "cells": [
  {
   "cell_type": "code",
   "execution_count": 41,
   "metadata": {},
   "outputs": [],
   "source": [
    "def menu_opcoes():\n",
    "    print(\"Escolha uma opção:\")\n",
    "    print(\"1 - Criar conta\")\n",
    "    print(\"2 - Fazer login\")\n",
    "    print(\"3 - Conheça os Amigos da Saúde\")\n",
    "    print(\"4 - Ajuda\")\n",
    "    print(\"0 - Sair\")\n",
    "    return int(input(\"Digite o número da opção desejada: \"))\n"
   ]
  },
  {
   "cell_type": "code",
   "execution_count": 36,
   "metadata": {},
   "outputs": [],
   "source": [
    "cadastros = {\n",
    "    \"Nome\":[],\n",
    "    \"Email\":[],\n",
    "    \"Senha\":[],\n",
    "}"
   ]
  },
  {
   "cell_type": "code",
   "execution_count": 29,
   "metadata": {},
   "outputs": [],
   "source": [
    "def criar_conta():\n",
    "    nome = input(\"Nome\")\n",
    "    email = input(\"Email\")\n",
    "    senha = input(\"Senha\")\n",
    "    if email not in cadastros[\"Email\"]: \n",
    "        cadastros[\"Nome\"].append(nome)\n",
    "        cadastros[\"Email\"].append(email)\n",
    "        cadastros[\"Senha\"].append(senha)\n",
    "     \n",
    "    else:\n",
    "        print(\"\\nEsse email já está cadastrado \\nFaça o login para continuar\")\n",
    "criar_conta()      "
   ]
  },
  {
   "cell_type": "code",
   "execution_count": 40,
   "metadata": {},
   "outputs": [],
   "source": [
    "paciente_logado = []\n",
    "email_logado = []\n",
    "def login():\n",
    "    login = input(\"Digite o seu email\")\n",
    "    senha = input(\"Digite sua senha\")\n",
    "    if login in cadastros[\"Email\"] and senha in cadastros[\"Senha\"]:\n",
    "        print(\"Login efetuado com sucesso!\")    \n",
    "        index = cadastros[\"Email\"].index(login)    \n",
    "        paciente_logado.append(cadastros[\"Nome\"][index])\n",
    "        email_logado.append(cadastros[\"Email\"][index])     \n",
    "        print(f\"Bem vindo {paciente_logado[0]}!\")\n",
    "    else:\n",
    "        print(\"Usuário ou Senha inválido.\")\n",
    "            "
   ]
  },
  {
   "cell_type": "code",
   "execution_count": 33,
   "metadata": {},
   "outputs": [],
   "source": [
    "def amigos_da_saude():\n",
    "    print(\"ALjdlkasjdlaksjdoasuhdoasiuhdasdga\")"
   ]
  },
  {
   "cell_type": "code",
   "execution_count": 34,
   "metadata": {},
   "outputs": [],
   "source": [
    "def ajuda():\n",
    "    print(\"ajsduisahjdiaoshduias\")"
   ]
  },
  {
   "cell_type": "code",
   "execution_count": null,
   "metadata": {},
   "outputs": [],
   "source": [
    "while True:\n",
    "    opcao = menu_opcoes()\n",
    "    if opcao == 1:\n",
    "        criar_conta()\n",
    "    elif opcao == 2:\n",
    "        login()\n",
    "    elif opcao == 3:\n",
    "        amigos_da_saude()\n",
    "    elif opcao == 4:\n",
    "        ajuda()\n",
    "    elif opcao == 0:\n",
    "        break   \n",
    "    else:\n",
    "        print(\"Opção inválida. Tente novamente.\")"
   ]
  },
  {
   "cell_type": "code",
   "execution_count": null,
   "metadata": {},
   "outputs": [],
   "source": [
    "def criar_avatar_cabelo():\n",
    "    "
   ]
  }
 ],
 "metadata": {
  "kernelspec": {
   "display_name": "Python 3",
   "language": "python",
   "name": "python3"
  },
  "language_info": {
   "codemirror_mode": {
    "name": "ipython",
    "version": 3
   },
   "file_extension": ".py",
   "mimetype": "text/x-python",
   "name": "python",
   "nbconvert_exporter": "python",
   "pygments_lexer": "ipython3",
   "version": "3.11.8"
  }
 },
 "nbformat": 4,
 "nbformat_minor": 2
}
