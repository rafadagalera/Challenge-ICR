{
 "cells": [
  {
   "cell_type": "code",
   "execution_count": 416,
   "metadata": {},
   "outputs": [],
   "source": [
    "def menu_opcoes():\n",
    "    print(\"Escolha uma opção:\")\n",
    "    print(\"1 - Criar conta\")\n",
    "    print(\"2 - Fazer login\")\n",
    "    print(\"3 - Conheça os Amigos da Saúde\")\n",
    "    print(\"4 - Ajuda\")\n",
    "    print(\"0 - Sair\")\n",
    "    return int(input(\"Digite o número da opção desejada: \"))\n"
   ]
  },
  {
   "cell_type": "code",
   "execution_count": 417,
   "metadata": {},
   "outputs": [],
   "source": [
    "cadastros = {\n",
    "    \"Nome\":[],\n",
    "    \"Email\":[],\n",
    "    \"Senha\":[],\n",
    "    \"Avatar\":[]\n",
    "}"
   ]
  },
  {
   "cell_type": "code",
   "execution_count": 418,
   "metadata": {},
   "outputs": [],
   "source": [
    "operacoes = []"
   ]
  },
  {
   "cell_type": "code",
   "execution_count": 419,
   "metadata": {},
   "outputs": [],
   "source": [
    "def criar_conta():\n",
    "    nome = input(\"Nome\")\n",
    "    email = input(\"Email\")\n",
    "    senha = input(\"Senha\")\n",
    "    if email not in cadastros[\"Email\"]: \n",
    "        cadastros[\"Nome\"].append(nome)\n",
    "        cadastros[\"Email\"].append(email)\n",
    "        cadastros[\"Senha\"].append(senha)\n",
    "     \n",
    "    else:\n",
    "        print(\"\\nEsse email já está cadastrado \\nFaça o login para continuar\")\n",
    "    return \n",
    "\n"
   ]
  },
  {
   "cell_type": "code",
   "execution_count": 420,
   "metadata": {},
   "outputs": [],
   "source": [
    "email_logado = []\n",
    "senha_logada = []\n",
    "def login():\n",
    "\n",
    "    login = input(\"Digite o seu email\")\n",
    "    senha = input(\"Digite sua senha\")\n",
    "    if login in cadastros[\"Email\"] and senha in cadastros[\"Senha\"]:\n",
    "        print(\"Login efetuado com sucesso!\")    \n",
    "        index = cadastros[\"Email\"].index(login)    \n",
    "        email_logado.append(cadastros[\"Email\"][index])\n",
    "        senha_logada.append(cadastros[\"Senha\"][index])     \n",
    "        print(f\"Bem vindo {email_logado[0]}!\")\n",
    "    else:\n",
    "        print(\"Usuário ou Senha inválido.\")\n",
    "    return  "
   ]
  },
  {
   "cell_type": "code",
   "execution_count": 421,
   "metadata": {},
   "outputs": [],
   "source": [
    "def logout_paciente():\n",
    "    print(f\"Até mais {email_logado[0]}!\")\n",
    "    email_logado.clear()\n",
    "    senha_logada.clear()\n",
    "    return"
   ]
  },
  {
   "cell_type": "code",
   "execution_count": 422,
   "metadata": {},
   "outputs": [],
   "source": [
    "def amigos_da_saude():\n",
    "    print(\"ALjdlkasjdlaksjdoasuhdoasiuhdasdga\")\n",
    "    return"
   ]
  },
  {
   "cell_type": "code",
   "execution_count": 423,
   "metadata": {},
   "outputs": [],
   "source": [
    "def ajuda():\n",
    "    print(\"ajsduisahjdiaoshduias\")\n",
    "    return"
   ]
  },
  {
   "cell_type": "code",
   "execution_count": 424,
   "metadata": {},
   "outputs": [],
   "source": [
    "caractericas_avatar = {\n",
    "    \"Cabelo\": \"\",\n",
    "    \"Rosto\": \"\",\n",
    "    \"Camisa\": \"\",\n",
    "    \"Short\": \"\",\n",
    "    \"Tenis\": \"\"\n",
    "}\n"
   ]
  },
  {
   "cell_type": "code",
   "execution_count": 425,
   "metadata": {},
   "outputs": [],
   "source": [
    "def criar_avatar_cabelo():\n",
    "    print(\"Escolha uma opção para o cabelo:\")\n",
    "    print(\"1 - Careca\")\n",
    "    print(\"2 - Cabelo curto\")\n",
    "    print(\"3 - Cabelo longo\")\n",
    "    print(\"0 - Sair\")\n",
    "\n",
    "\n",
    "    while True:\n",
    "        opcao = int(input(\"Digite o número da opção desejada:\"))\n",
    "        \n",
    "        if opcao == 1:\n",
    "            caractericas_avatar.update({\"Cabelo\": \"Careca\"})\n",
    "            break\n",
    "        elif opcao == 2:\n",
    "            caractericas_avatar.update({\"Cabelo\": \"Cabelo curto\"})\n",
    "            break\n",
    "        elif opcao == 3:\n",
    "            caractericas_avatar.update({\"Cabelo\": \"Cabelo longo\"})\n",
    "            break\n",
    "        else:\n",
    "            print(\"Opção inválida. Tente novamente.\")\n",
    "            \n",
    "\n",
    "    return"
   ]
  },
  {
   "cell_type": "code",
   "execution_count": 426,
   "metadata": {},
   "outputs": [],
   "source": [
    "def criar_avatar_rosto():\n",
    "    print(\"Escolha uma opção para o rosto:\")\n",
    "    print(\"1 - Redondo\")\n",
    "    print(\"2 - Quadrado\")\n",
    "    print(\"3 - Oval\")\n",
    "    print(\"0 - Sair\")\n",
    "\n",
    "\n",
    "    while True:\n",
    "        opcao = int(input(\"Digite o número da opção desejada:\"))\n",
    "        \n",
    "        if opcao == 1:\n",
    "            caractericas_avatar.update({\"Rosto\": \"Redondo\"})\n",
    "            break\n",
    "        elif opcao == 2:\n",
    "            caractericas_avatar.update({\"Rosto\": \"Quadrado\"})\n",
    "            break\n",
    "        elif opcao == 3:\n",
    "            caractericas_avatar.update({\"Rosto\": \"Oval\"})\n",
    "            break\n",
    "        else:\n",
    "            print(\"Opção inválida. Tente novamente.\")\n",
    "        \n",
    "    return"
   ]
  },
  {
   "cell_type": "code",
   "execution_count": 427,
   "metadata": {},
   "outputs": [],
   "source": [
    "def criar_avatar_camisa():\n",
    "    print(\"Escolha uma opção para a camisa:\")\n",
    "    print(\"1 - Vermelha\")\n",
    "    print(\"2 - Azul\")\n",
    "    print(\"3 - Verde\")\n",
    "    print(\"0 - Sair\")\n",
    "\n",
    "\n",
    "    while True:\n",
    "        opcao = int(input(\"Digite o número da opção desejada:\"))\n",
    "        \n",
    "        if opcao == 1:\n",
    "            caractericas_avatar.update({\"Camisa\": \"Camisa Vermelha\"})\n",
    "            break\n",
    "        elif opcao == 2:\n",
    "            caractericas_avatar.update({\"Camisa\": \"Camisa Azul\"})\n",
    "            break\n",
    "        elif opcao == 3:\n",
    "            caractericas_avatar.update({\"Camisa\": \"Camis Verde\"})\n",
    "            break\n",
    "        else:\n",
    "            print(\"Opção inválida. Tente novamente.\")\n",
    "\n",
    "    return"
   ]
  },
  {
   "cell_type": "code",
   "execution_count": 428,
   "metadata": {},
   "outputs": [],
   "source": [
    "def criar_avatar_short():\n",
    "    print(\"Escolha uma opção para o short:\")\n",
    "    print(\"1 - Short preto\")\n",
    "    print(\"2 - Short verde\")\n",
    "    print(\"3 - Short laranja\")\n",
    "    print(\"0 - Sair\")\n",
    "\n",
    "\n",
    "    while True:\n",
    "        opcao = int(input(\"Digite o número da opção desejada:\"))\n",
    "        \n",
    "        if opcao == 1:\n",
    "            caractericas_avatar.update({\"Short\": \"Short Preto\"})\n",
    "            break\n",
    "        elif opcao == 2:\n",
    "            caractericas_avatar.update({\"Short\": \"Short Verde\"})\n",
    "            break\n",
    "        elif opcao == 3:\n",
    "            caractericas_avatar.update({\"Short\": \"Short Laranja\"})\n",
    "            break\n",
    "        else:\n",
    "            print(\"Opção inválida. Tente novamente.\")\n",
    "\n",
    "    return"
   ]
  },
  {
   "cell_type": "code",
   "execution_count": 429,
   "metadata": {},
   "outputs": [],
   "source": [
    "def criar_avatar_tenis():\n",
    "    print(\"Escolha uma opção para o tenis:\")\n",
    "    print(\"1 - Tenis vermelho\")\n",
    "    print(\"2 - Tenis verde\")\n",
    "    print(\"3 - Tenis azul\")\n",
    "    print(\"0 - Sair\")\n",
    "\n",
    "    while True:\n",
    "        opcao = int(input(\"Digite o número da opção desejada: \"))\n",
    "\n",
    "        if opcao == 1:\n",
    "            caractericas_avatar.update({\"Tenis\": \"Tenis azul\"})\n",
    "            break\n",
    "        elif opcao == 2:\n",
    "            caractericas_avatar.update({\"Tenis\": \"Tenis verde\"})\n",
    "            break\n",
    "        elif opcao == 3:\n",
    "            caractericas_avatar.update({\"Tenis\": \"Tenis vermelho\"})\n",
    "            break\n",
    "        else:\n",
    "            print(\"Opção inválida. Tente novamente.\")\n",
    "        \n",
    "    return"
   ]
  },
  {
   "cell_type": "code",
   "execution_count": 430,
   "metadata": {},
   "outputs": [],
   "source": [
    "def criar_avatar():\n",
    "    if len(cadastros[\"Email\"]) > len(cadastros[\"Avatar\"]):  \n",
    "        criar_avatar_cabelo()\n",
    "        criar_avatar_rosto()\n",
    "        criar_avatar_camisa()\n",
    "        criar_avatar_short()\n",
    "        criar_avatar_tenis()\n",
    "\n",
    "        cadastros[\"Avatar\"].append(caractericas_avatar)\n",
    "    else:\n",
    "        print(\"Você já possui um avatar cadastrado!\")    \n",
    "    \n",
    "    return \n"
   ]
  },
  {
   "cell_type": "code",
   "execution_count": 431,
   "metadata": {},
   "outputs": [],
   "source": [
    "# bugged\n",
    "def ver_avatar():\n",
    "    for i in range(len(cadastros[\"Email\"])):\n",
    "        if cadastros[\"Email\"] == email_logado and cadastros[\"Senha\"] == senha_logada:\n",
    "            print(\"Meu avatar:\", cadastros[\"Avatar\"])\n",
    "    return\n"
   ]
  },
  {
   "cell_type": "code",
   "execution_count": 432,
   "metadata": {},
   "outputs": [],
   "source": [
    "ver_avatar()"
   ]
  },
  {
   "cell_type": "code",
   "execution_count": 433,
   "metadata": {},
   "outputs": [
    {
     "data": {
      "text/plain": [
       "{'Nome': [], 'Email': [], 'Senha': [], 'Avatar': []}"
      ]
     },
     "execution_count": 433,
     "metadata": {},
     "output_type": "execute_result"
    }
   ],
   "source": [
    "cadastros"
   ]
  },
  {
   "cell_type": "code",
   "execution_count": 434,
   "metadata": {},
   "outputs": [
    {
     "data": {
      "text/plain": [
       "[]"
      ]
     },
     "execution_count": 434,
     "metadata": {},
     "output_type": "execute_result"
    }
   ],
   "source": [
    "email_logado"
   ]
  },
  {
   "cell_type": "code",
   "execution_count": 435,
   "metadata": {},
   "outputs": [
    {
     "data": {
      "text/plain": [
       "[]"
      ]
     },
     "execution_count": 435,
     "metadata": {},
     "output_type": "execute_result"
    }
   ],
   "source": [
    "senha_logada"
   ]
  },
  {
   "cell_type": "code",
   "execution_count": 436,
   "metadata": {},
   "outputs": [],
   "source": [
    "def ver_exames():\n",
    "    print(\"asjhdiusahdiuashdiusahdua\")\n",
    "    return"
   ]
  },
  {
   "cell_type": "code",
   "execution_count": 437,
   "metadata": {},
   "outputs": [],
   "source": [
    "def ajuda_paciente():\n",
    "    print(\"shiyudgasudgsauiydsgayduias\")\n",
    "    return"
   ]
  },
  {
   "cell_type": "code",
   "execution_count": 438,
   "metadata": {},
   "outputs": [],
   "source": [
    "def menu_paciente():\n",
    "    print(\"Escolha uma opção:\")\n",
    "    print(\"1 - Criar meu avatar\")\n",
    "    print(\"2 - Ver meu avatar\")\n",
    "    print(\"3 - Meus Exames\")\n",
    "    print(\"4 - Ajuda\")\n",
    "    print(\"0 - Sair\")\n",
    "    return int(input(\"Digite o número da opção desejada: \"))\n",
    "\n",
    "    "
   ]
  },
  {
   "cell_type": "code",
   "execution_count": 439,
   "metadata": {},
   "outputs": [],
   "source": [
    "def menu():\n",
    "    while True:\n",
    "        opcao = menu_opcoes()\n",
    "        if opcao == 1:\n",
    "            criar_conta()\n",
    "            operacoes.append(\"Conta criada\")\n",
    "        elif opcao == 2:\n",
    "            login()\n",
    "            operacoes.append(\"Login efetuado\")\n",
    "            while True:\n",
    "                opcao_paciente = menu_paciente()    \n",
    "                if opcao_paciente == 1:\n",
    "                        criar_avatar()\n",
    "                        operacoes.append(\"Avatar criado\")\n",
    "                elif opcao_paciente == 2:\n",
    "                        ver_avatar()\n",
    "                        operacoes.append(\"Vizualizou o avatar\")\n",
    "                elif opcao_paciente == 3:\n",
    "                        ver_exames()\n",
    "                        operacoes.append(\"Acessou lista de exames\")\n",
    "                elif opcao_paciente == 4:\n",
    "                        ajuda_paciente()\n",
    "                        operacoes.append(\"Acessou o comando de Ajuda para pacientes logados\")\n",
    "                elif opcao_paciente == 0:\n",
    "                        logout_paciente()\n",
    "                        operacoes.append(\"Logout efetuado\")\n",
    "                        break\n",
    "\n",
    "        elif opcao == 3:\n",
    "            amigos_da_saude()\n",
    "            operacoes.append(\"Acessou a página Amigos da Saúde\")\n",
    "        elif opcao == 4:\n",
    "            ajuda()\n",
    "            operacoes.append(\"Acessou o comando de Ajuda do menu inicial\")\n",
    "        elif opcao == 0:\n",
    "            print(\"Saindo do menu, até mais!\")\n",
    "            operacoes.append(\"Saiu do programa\")\n",
    "            break   \n",
    "        else:\n",
    "            print(\"Opção inválida. Tente novamente.\")\n",
    "    for item in operacoes:\n",
    "        print(\"Operação realizada: \", item)     \n",
    "    return        "
   ]
  },
  {
   "cell_type": "code",
   "execution_count": 440,
   "metadata": {},
   "outputs": [
    {
     "name": "stdout",
     "output_type": "stream",
     "text": [
      "Escolha uma opção:\n",
      "1 - Criar conta\n",
      "2 - Fazer login\n",
      "3 - Conheça os Amigos da Saúde\n",
      "4 - Ajuda\n",
      "0 - Sair\n",
      "Escolha uma opção:\n",
      "1 - Criar conta\n",
      "2 - Fazer login\n",
      "3 - Conheça os Amigos da Saúde\n",
      "4 - Ajuda\n",
      "0 - Sair\n",
      "ALjdlkasjdlaksjdoasuhdoasiuhdasdga\n",
      "Escolha uma opção:\n",
      "1 - Criar conta\n",
      "2 - Fazer login\n",
      "3 - Conheça os Amigos da Saúde\n",
      "4 - Ajuda\n",
      "0 - Sair\n",
      "Saindo do menu, até mais!\n",
      "Operação realizada:  Conta criada\n",
      "Operação realizada:  \n",
      "Operação realizada:  Saiu do programa\n"
     ]
    }
   ],
   "source": [
    "menu()"
   ]
  }
 ],
 "metadata": {
  "kernelspec": {
   "display_name": "Python 3",
   "language": "python",
   "name": "python3"
  },
  "language_info": {
   "codemirror_mode": {
    "name": "ipython",
    "version": 3
   },
   "file_extension": ".py",
   "mimetype": "text/x-python",
   "name": "python",
   "nbconvert_exporter": "python",
   "pygments_lexer": "ipython3",
   "version": "3.11.8"
  }
 },
 "nbformat": 4,
 "nbformat_minor": 2
}
