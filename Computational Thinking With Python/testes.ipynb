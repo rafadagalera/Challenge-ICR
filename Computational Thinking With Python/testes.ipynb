{
 "cells": [
  {
   "cell_type": "markdown",
   "metadata": {},
   "source": [
    "TODO:\n",
    "\n",
    "\n",
    "corrigir funções ver_avatar e alterar (atualmente funcionam apenas para o primeiro login efetuado) \n",
    "\n",
    "\n",
    "adicionar texto nas funçóes ajuda, ajuda_pacientes e amigos_da_saude"
   ]
  },
  {
   "cell_type": "code",
   "execution_count": 592,
   "metadata": {},
   "outputs": [],
   "source": [
    "def menu_opcoes():\n",
    "    print(\"Escolha uma opção:\")\n",
    "    print(\"1 - Criar conta\")\n",
    "    print(\"2 - Fazer login\")\n",
    "    print(\"3 - Conheça os Amigos da Saúde\")\n",
    "    print(\"4 - Ajuda\")\n",
    "    print(\"0 - Sair\")\n",
    "    return int(input(\"Digite o número da opção desejada: \"))\n"
   ]
  },
  {
   "cell_type": "code",
   "execution_count": 593,
   "metadata": {},
   "outputs": [],
   "source": [
    "cadastros = {\n",
    "    \"Nome\":[],\n",
    "    \"Email\":[],\n",
    "    \"Senha\":[],\n",
    "    \"Avatar\":[]\n",
    "}"
   ]
  },
  {
   "cell_type": "code",
   "execution_count": 594,
   "metadata": {},
   "outputs": [],
   "source": [
    "operacoes = []"
   ]
  },
  {
   "cell_type": "code",
   "execution_count": 595,
   "metadata": {},
   "outputs": [],
   "source": [
    "def criar_conta():\n",
    "    nome = input(\"Nome\")\n",
    "    email = input(\"Email\")\n",
    "    senha = input(\"Senha\")\n",
    "    if email not in cadastros[\"Email\"]: \n",
    "        cadastros[\"Nome\"].append(nome)\n",
    "        cadastros[\"Email\"].append(email)\n",
    "        cadastros[\"Senha\"].append(senha)\n",
    "     \n",
    "    else:\n",
    "        print(\"\\nEsse email já está cadastrado \\nFaça o login para continuar\")\n",
    "    return \n",
    "\n"
   ]
  },
  {
   "cell_type": "code",
   "execution_count": 596,
   "metadata": {},
   "outputs": [],
   "source": [
    "email_logado = []\n",
    "senha_logada = []\n",
    "def login():\n",
    "    login = input(\"Digite o seu email\")\n",
    "    senha = input(\"Digite sua senha\")\n",
    "    if login in cadastros[\"Email\"] and senha in cadastros[\"Senha\"]:\n",
    "        print(\"Login efetuado com sucesso!\")    \n",
    "        index = cadastros[\"Email\"].index(login)    \n",
    "        email_logado.append(cadastros[\"Email\"][index])\n",
    "        senha_logada.append(cadastros[\"Senha\"][index])     \n",
    "        print(f\"Bem vindo {email_logado[0]}!\")\n",
    "    else:\n",
    "        print(\"Usuário ou Senha inválido.\")\n",
    "        \n",
    "    return  "
   ]
  },
  {
   "cell_type": "code",
   "execution_count": 597,
   "metadata": {},
   "outputs": [],
   "source": [
    "email_logado = []\n",
    "senha_logada = []\n",
    "def login():\n",
    "    login = input(\"Digite o seu email\")\n",
    "    senha = input(\"Digite sua senha\")\n",
    "    for i in range(len(cadastros[\"Email\"])):\n",
    "        if login == cadastros[\"Email\"][i] and senha == cadastros[\"Senha\"][i]:\n",
    "            print(\"Login efetuado com sucesso!\")    \n",
    "            index = cadastros[\"Email\"].index(login)    \n",
    "            email_logado.append(cadastros[\"Email\"][index])\n",
    "            senha_logada.append(cadastros[\"Senha\"][index])     \n",
    "            print(f\"Bem vindo {email_logado[0]}!\")\n",
    "        else:\n",
    "            print(\"Usuário ou senha incorreto!.\")\n",
    "            \n",
    "    return  "
   ]
  },
  {
   "cell_type": "code",
   "execution_count": 598,
   "metadata": {},
   "outputs": [],
   "source": [
    "def logout_paciente():\n",
    "    print(f\"Até mais {email_logado[0]}!\")\n",
    "    email_logado.clear()\n",
    "    senha_logada.clear()\n",
    "    return"
   ]
  },
  {
   "cell_type": "code",
   "execution_count": 599,
   "metadata": {},
   "outputs": [
    {
     "name": "stdout",
     "output_type": "stream",
     "text": [
      "Nós 'Amigos da Saúde' somos uma equipe dedicada a ajudar pacientes e seus acompanhantes a entender tudo sobre sua estadia no hospital. Explicando de maneira divertida e simples, tornando cada procedimento menos assustador. Nosso objetivo é trazer conforto e segurança durante sua jornada médica.\n"
     ]
    }
   ],
   "source": [
    "def amigos_da_saude():\n",
    "    print(\"Nós 'Amigos da Saúde' somos uma equipe dedicada a ajudar pacientes e seus acompanhantes a entender tudo sobre sua estadia no hospital. Explicando de maneira divertida e simples, tornando cada procedimento menos assustador. Nosso objetivo é trazer conforto e segurança durante sua jornada médica.\")\n",
    "    return\n",
    "amigos_da_saude()    "
   ]
  },
  {
   "cell_type": "code",
   "execution_count": 600,
   "metadata": {},
   "outputs": [],
   "source": [
    "def ajuda():\n",
    "    print(\"\\n Você está no menu principal. Leia o texto apresentado no terminal e escolha uma opção dentre as seguintes:\\n 1- Criar Conta(Cadastre sua conta antes de continuar)\\n 2- Após criar a sua conta, você precisa efetuar o login para acessar a criação de avatares. \\n3- Conheça os Amigos da Saúde, nossa turma está aqui para te ajudar! \\n 0- Sair do menu e imprimir todas as funções utilizadas.\" )\n",
    "    return"
   ]
  },
  {
   "cell_type": "code",
   "execution_count": 601,
   "metadata": {},
   "outputs": [],
   "source": [
    "caractericas_avatar = {\n",
    "    \"Cabelo\": \"\",\n",
    "    \"Rosto\": \"\",\n",
    "    \"Camisa\": \"\",\n",
    "    \"Short\": \"\",\n",
    "    \"Tenis\": \"\"\n",
    "}\n"
   ]
  },
  {
   "cell_type": "code",
   "execution_count": 602,
   "metadata": {},
   "outputs": [],
   "source": [
    "def criar_avatar_cabelo():\n",
    "    print(\"Escolha uma opção para o cabelo:\")\n",
    "    print(\"1 - Careca\")\n",
    "    print(\"2 - Cabelo curto\")\n",
    "    print(\"3 - Cabelo longo\")\n",
    "    print(\"0 - Sair\")\n",
    "\n",
    "\n",
    "    while True:\n",
    "        opcao = int(input(\"Digite o número da opção desejada:\"))\n",
    "        \n",
    "        if opcao == 1:\n",
    "            caractericas_avatar.update({\"Cabelo\": \"Careca\"})\n",
    "            break\n",
    "        elif opcao == 2:\n",
    "            caractericas_avatar.update({\"Cabelo\": \"Cabelo curto\"})\n",
    "            break\n",
    "        elif opcao == 3:\n",
    "            caractericas_avatar.update({\"Cabelo\": \"Cabelo longo\"})\n",
    "            break\n",
    "        else:\n",
    "            print(\"Opção inválida. Tente novamente.\")\n",
    "            \n",
    "\n",
    "    return"
   ]
  },
  {
   "cell_type": "code",
   "execution_count": 603,
   "metadata": {},
   "outputs": [],
   "source": [
    "def criar_avatar_rosto():\n",
    "    print(\"Escolha uma opção para o rosto:\")\n",
    "    print(\"1 - Redondo\")\n",
    "    print(\"2 - Quadrado\")\n",
    "    print(\"3 - Oval\")\n",
    "    print(\"0 - Sair\")\n",
    "\n",
    "\n",
    "    while True:\n",
    "        opcao = int(input(\"Digite o número da opção desejada:\"))\n",
    "        \n",
    "        if opcao == 1:\n",
    "            caractericas_avatar.update({\"Rosto\": \"Redondo\"})\n",
    "            break\n",
    "        elif opcao == 2:\n",
    "            caractericas_avatar.update({\"Rosto\": \"Quadrado\"})\n",
    "            break\n",
    "        elif opcao == 3:\n",
    "            caractericas_avatar.update({\"Rosto\": \"Oval\"})\n",
    "            break\n",
    "        else:\n",
    "            print(\"Opção inválida. Tente novamente.\")\n",
    "        \n",
    "    return"
   ]
  },
  {
   "cell_type": "code",
   "execution_count": 604,
   "metadata": {},
   "outputs": [],
   "source": [
    "def criar_avatar_camisa():\n",
    "    print(\"Escolha uma opção para a camisa:\")\n",
    "    print(\"1 - Vermelha\")\n",
    "    print(\"2 - Azul\")\n",
    "    print(\"3 - Verde\")\n",
    "    print(\"0 - Sair\")\n",
    "\n",
    "\n",
    "    while True:\n",
    "        opcao = int(input(\"Digite o número da opção desejada:\"))\n",
    "        \n",
    "        if opcao == 1:\n",
    "            caractericas_avatar.update({\"Camisa\": \"Camisa Vermelha\"})\n",
    "            break\n",
    "        elif opcao == 2:\n",
    "            caractericas_avatar.update({\"Camisa\": \"Camisa Azul\"})\n",
    "            break\n",
    "        elif opcao == 3:\n",
    "            caractericas_avatar.update({\"Camisa\": \"Camis Verde\"})\n",
    "            break\n",
    "        else:\n",
    "            print(\"Opção inválida. Tente novamente.\")\n",
    "\n",
    "    return"
   ]
  },
  {
   "cell_type": "code",
   "execution_count": 605,
   "metadata": {},
   "outputs": [],
   "source": [
    "def criar_avatar_short():\n",
    "    print(\"Escolha uma opção para o short:\")\n",
    "    print(\"1 - Short preto\")\n",
    "    print(\"2 - Short verde\")\n",
    "    print(\"3 - Short laranja\")\n",
    "    print(\"0 - Sair\")\n",
    "\n",
    "\n",
    "    while True:\n",
    "        opcao = int(input(\"Digite o número da opção desejada:\"))\n",
    "        \n",
    "        if opcao == 1:\n",
    "            caractericas_avatar.update({\"Short\": \"Short Preto\"})\n",
    "            break\n",
    "        elif opcao == 2:\n",
    "            caractericas_avatar.update({\"Short\": \"Short Verde\"})\n",
    "            break\n",
    "        elif opcao == 3:\n",
    "            caractericas_avatar.update({\"Short\": \"Short Laranja\"})\n",
    "            break\n",
    "        else:\n",
    "            print(\"Opção inválida. Tente novamente.\")\n",
    "\n",
    "    return"
   ]
  },
  {
   "cell_type": "code",
   "execution_count": 606,
   "metadata": {},
   "outputs": [],
   "source": [
    "def criar_avatar_tenis():\n",
    "    print(\"Escolha uma opção para o tenis:\")\n",
    "    print(\"1 - Tenis vermelho\")\n",
    "    print(\"2 - Tenis verde\")\n",
    "    print(\"3 - Tenis azul\")\n",
    "    print(\"0 - Sair\")\n",
    "\n",
    "    while True:\n",
    "        opcao = int(input(\"Digite o número da opção desejada: \"))\n",
    "\n",
    "        if opcao == 1:\n",
    "            caractericas_avatar.update({\"Tenis\": \"Tenis azul\"})\n",
    "            break\n",
    "        elif opcao == 2:\n",
    "            caractericas_avatar.update({\"Tenis\": \"Tenis verde\"})\n",
    "            break\n",
    "        elif opcao == 3:\n",
    "            caractericas_avatar.update({\"Tenis\": \"Tenis vermelho\"})\n",
    "            break\n",
    "        else:\n",
    "            print(\"Opção inválida. Tente novamente.\")\n",
    "        \n",
    "    return"
   ]
  },
  {
   "cell_type": "code",
   "execution_count": 607,
   "metadata": {},
   "outputs": [],
   "source": [
    "def criar_avatar():\n",
    "    if len(cadastros[\"Email\"]) > len(cadastros[\"Avatar\"]):  \n",
    "        criar_avatar_cabelo()\n",
    "        criar_avatar_rosto()\n",
    "        criar_avatar_camisa()\n",
    "        criar_avatar_short()\n",
    "        criar_avatar_tenis()\n",
    "\n",
    "        cadastros[\"Avatar\"].append(caractericas_avatar)\n",
    "    else:\n",
    "        print(\"Você já possui um avatar cadastrado!\")    \n",
    "    \n",
    "    return \n"
   ]
  },
  {
   "cell_type": "code",
   "execution_count": 608,
   "metadata": {},
   "outputs": [],
   "source": [
    "# bugged\n",
    "# def ver_avatar():\n",
    "#     for i in range(len(cadastros[\"Email\"])):\n",
    "#         if cadastros[\"Email\"] == email_logado and cadastros[\"Senha\"] == senha_logada:\n",
    "#             print(\"Meu avatar:\", cadastros[\"Avatar\"])    \n",
    "#     return\n"
   ]
  },
  {
   "cell_type": "code",
   "execution_count": 609,
   "metadata": {},
   "outputs": [],
   "source": [
    "def ver_avatar():\n",
    "    try:\n",
    "        for i in range(len(cadastros[\"Email\"])):\n",
    "            if cadastros[\"Email\"] == email_logado and cadastros[\"Senha\"] == senha_logada:\n",
    "                print(\"Meu avatar:\", cadastros[\"Avatar\"][i])\n",
    "    except IndexError:\n",
    "        print(\"Você não possui um avatar cadastrado\")\n",
    "        pass            "
   ]
  },
  {
   "cell_type": "code",
   "execution_count": 610,
   "metadata": {},
   "outputs": [],
   "source": [
    "ver_avatar()"
   ]
  },
  {
   "cell_type": "code",
   "execution_count": 611,
   "metadata": {},
   "outputs": [
    {
     "data": {
      "text/plain": [
       "{'Nome': [], 'Email': [], 'Senha': [], 'Avatar': []}"
      ]
     },
     "execution_count": 611,
     "metadata": {},
     "output_type": "execute_result"
    }
   ],
   "source": [
    "cadastros"
   ]
  },
  {
   "cell_type": "code",
   "execution_count": 612,
   "metadata": {},
   "outputs": [
    {
     "data": {
      "text/plain": [
       "[]"
      ]
     },
     "execution_count": 612,
     "metadata": {},
     "output_type": "execute_result"
    }
   ],
   "source": [
    "email_logado"
   ]
  },
  {
   "cell_type": "code",
   "execution_count": 613,
   "metadata": {},
   "outputs": [
    {
     "data": {
      "text/plain": [
       "[]"
      ]
     },
     "execution_count": 613,
     "metadata": {},
     "output_type": "execute_result"
    }
   ],
   "source": [
    "senha_logada"
   ]
  },
  {
   "cell_type": "code",
   "execution_count": 614,
   "metadata": {},
   "outputs": [],
   "source": [
    "def mudar_avatar():\n",
    "    for i in range(len(cadastros[\"Email\"])):\n",
    "        if cadastros[\"Email\"] == email_logado and cadastros[\"Senha\"] == senha_logada and cadastros[\"Avatar\"][i] != \"\":\n",
    "            criar_avatar_cabelo()\n",
    "            criar_avatar_rosto()\n",
    "            criar_avatar_camisa()\n",
    "            criar_avatar_short()\n",
    "            criar_avatar_tenis()\n",
    "            \n",
    "            cadastros[\"Avatar\"][i] = caractericas_avatar\n",
    "        else:\n",
    "            print(\"Você não possui um avatar cadastrado\")\n",
    "            pass\n",
    "                  \n"
   ]
  },
  {
   "cell_type": "code",
   "execution_count": 615,
   "metadata": {},
   "outputs": [],
   "source": [
    "def ajuda_paciente():\n",
    "    print(\"Você está no menu do paciente! Leia o texto apresentado no terminal e escolha uma opção dentre as seguintes: \\n 1- Criar avatar(Crie o avatar que te acompanhará durante sua estadia no hospital) \\n2- Ver meu avatar(Visualize as características que você escolheu para o seu avatar.) \\n3- Mudar meu avatar(Atualize a aparência do seu avatar.)\\n 0-Sair(Efetue o logout e retorne para o menu principal.) \")\n",
    "    return"
   ]
  },
  {
   "cell_type": "code",
   "execution_count": 616,
   "metadata": {},
   "outputs": [],
   "source": [
    "def menu_paciente():\n",
    "    print(\"Escolha uma opção:\")\n",
    "    print(\"1 - Criar meu avatar\")\n",
    "    print(\"2 - Ver meu avatar\")\n",
    "    print(\"3 - Mudar meu avatar\")\n",
    "    print(\"4 - Ajuda\")\n",
    "    print(\"0 - Sair\")\n",
    "    return int(input(\"Digite o número da opção desejada: \"))\n",
    "\n",
    "    "
   ]
  },
  {
   "cell_type": "code",
   "execution_count": 617,
   "metadata": {},
   "outputs": [],
   "source": [
    "def menu():\n",
    "    while True:\n",
    "        try:            \n",
    "            opcao = menu_opcoes()\n",
    "            if opcao == 1:\n",
    "                criar_conta()\n",
    "                operacoes.append(\"Conta criada\")\n",
    "                continue\n",
    "            elif opcao == 2:\n",
    "                login()\n",
    "                if len(email_logado) != 0: \n",
    "                    operacoes.append(\"Login efetuado\")\n",
    "                    while True:\n",
    "                        try:                             \n",
    "                            opcao_paciente = menu_paciente()    \n",
    "                            if opcao_paciente == 1:\n",
    "                                    criar_avatar()\n",
    "                                    operacoes.append(\"Avatar criado\")\n",
    "                            elif opcao_paciente == 2:\n",
    "                                    ver_avatar()\n",
    "                                    operacoes.append(\"Vizualizou o avatar\")\n",
    "                            elif opcao_paciente == 3:\n",
    "                                    mudar_avatar()\n",
    "                                    operacoes.append(\"Mudou o avatar\")\n",
    "                            elif opcao_paciente == 4:\n",
    "                                    ajuda_paciente()\n",
    "                                    operacoes.append(\"Acessou o comando de Ajuda para pacientes logados\")\n",
    "                            elif opcao_paciente == 0:\n",
    "                                    logout_paciente()\n",
    "                                    operacoes.append(\"Logout efetuado\")\n",
    "                                    break\n",
    "                        except ValueError:\n",
    "                             print(\"\\nUtilize apenas digitos! Tente novamente.\\n\")\n",
    "                             continue\n",
    "                else:\n",
    "                    continue       \n",
    "\n",
    "            elif opcao == 3:\n",
    "                amigos_da_saude()\n",
    "                operacoes.append(\"Acessou a página Amigos da Saúde\")\n",
    "            elif opcao == 4:\n",
    "                ajuda()\n",
    "                operacoes.append(\"Acessou o comando de Ajuda do menu inicial\")\n",
    "            elif opcao == 0:\n",
    "                print(\"Saindo do menu, até mais!\")\n",
    "                operacoes.append(\"Saiu do programa\")\n",
    "                break   \n",
    "            else:\n",
    "                print(\"Opção inválida. Tente novamente.\")\n",
    "        except ValueError:\n",
    "            print(\"\\nUtilize apenas digitos! Tente novamente.\\n\")\n",
    "            continue\n",
    "    for item in operacoes:\n",
    "        print(\"Operação realizada: \", item)     \n",
    "    return        "
   ]
  },
  {
   "cell_type": "code",
   "execution_count": 618,
   "metadata": {},
   "outputs": [
    {
     "name": "stdout",
     "output_type": "stream",
     "text": [
      "Escolha uma opção:\n",
      "1 - Criar conta\n",
      "2 - Fazer login\n",
      "3 - Conheça os Amigos da Saúde\n",
      "4 - Ajuda\n",
      "0 - Sair\n",
      "Escolha uma opção:\n",
      "1 - Criar conta\n",
      "2 - Fazer login\n",
      "3 - Conheça os Amigos da Saúde\n",
      "4 - Ajuda\n",
      "0 - Sair\n",
      "Login efetuado com sucesso!\n",
      "Bem vindo x!\n",
      "Escolha uma opção:\n",
      "1 - Criar meu avatar\n",
      "2 - Ver meu avatar\n",
      "3 - Mudar meu avatar\n",
      "4 - Ajuda\n",
      "0 - Sair\n",
      "Escolha uma opção para o cabelo:\n",
      "1 - Careca\n",
      "2 - Cabelo curto\n",
      "3 - Cabelo longo\n",
      "0 - Sair\n",
      "Escolha uma opção para o rosto:\n",
      "1 - Redondo\n",
      "2 - Quadrado\n",
      "3 - Oval\n",
      "0 - Sair\n",
      "Escolha uma opção para a camisa:\n",
      "1 - Vermelha\n",
      "2 - Azul\n",
      "3 - Verde\n",
      "0 - Sair\n",
      "Escolha uma opção para o short:\n",
      "1 - Short preto\n",
      "2 - Short verde\n",
      "3 - Short laranja\n",
      "0 - Sair\n",
      "Escolha uma opção para o tenis:\n",
      "1 - Tenis vermelho\n",
      "2 - Tenis verde\n",
      "3 - Tenis azul\n",
      "0 - Sair\n",
      "Escolha uma opção:\n",
      "1 - Criar meu avatar\n",
      "2 - Ver meu avatar\n",
      "3 - Mudar meu avatar\n",
      "4 - Ajuda\n",
      "0 - Sair\n",
      "Escolha uma opção para o cabelo:\n",
      "1 - Careca\n",
      "2 - Cabelo curto\n",
      "3 - Cabelo longo\n",
      "0 - Sair\n",
      "Escolha uma opção para o rosto:\n",
      "1 - Redondo\n",
      "2 - Quadrado\n",
      "3 - Oval\n",
      "0 - Sair\n",
      "Escolha uma opção para a camisa:\n",
      "1 - Vermelha\n",
      "2 - Azul\n",
      "3 - Verde\n",
      "0 - Sair\n",
      "Escolha uma opção para o short:\n",
      "1 - Short preto\n",
      "2 - Short verde\n",
      "3 - Short laranja\n",
      "0 - Sair\n",
      "Escolha uma opção para o tenis:\n",
      "1 - Tenis vermelho\n",
      "2 - Tenis verde\n",
      "3 - Tenis azul\n",
      "0 - Sair\n",
      "Escolha uma opção:\n",
      "1 - Criar meu avatar\n",
      "2 - Ver meu avatar\n",
      "3 - Mudar meu avatar\n",
      "4 - Ajuda\n",
      "0 - Sair\n",
      "Meu avatar: {'Cabelo': 'Cabelo longo', 'Rosto': 'Oval', 'Camisa': 'Camis Verde', 'Short': 'Short Laranja', 'Tenis': 'Tenis vermelho'}\n",
      "Escolha uma opção:\n",
      "1 - Criar meu avatar\n",
      "2 - Ver meu avatar\n",
      "3 - Mudar meu avatar\n",
      "4 - Ajuda\n",
      "0 - Sair\n",
      "Até mais x!\n",
      "Escolha uma opção:\n",
      "1 - Criar conta\n",
      "2 - Fazer login\n",
      "3 - Conheça os Amigos da Saúde\n",
      "4 - Ajuda\n",
      "0 - Sair\n",
      "Escolha uma opção:\n",
      "1 - Criar conta\n",
      "2 - Fazer login\n",
      "3 - Conheça os Amigos da Saúde\n",
      "4 - Ajuda\n",
      "0 - Sair\n",
      "Usuário ou senha incorreto!.\n",
      "Login efetuado com sucesso!\n",
      "Bem vindo y!\n",
      "Escolha uma opção:\n",
      "1 - Criar meu avatar\n",
      "2 - Ver meu avatar\n",
      "3 - Mudar meu avatar\n",
      "4 - Ajuda\n",
      "0 - Sair\n",
      "Escolha uma opção para o cabelo:\n",
      "1 - Careca\n",
      "2 - Cabelo curto\n",
      "3 - Cabelo longo\n",
      "0 - Sair\n",
      "Escolha uma opção para o rosto:\n",
      "1 - Redondo\n",
      "2 - Quadrado\n",
      "3 - Oval\n",
      "0 - Sair\n",
      "Escolha uma opção para a camisa:\n",
      "1 - Vermelha\n",
      "2 - Azul\n",
      "3 - Verde\n",
      "0 - Sair\n",
      "Escolha uma opção para o short:\n",
      "1 - Short preto\n",
      "2 - Short verde\n",
      "3 - Short laranja\n",
      "0 - Sair\n",
      "Escolha uma opção para o tenis:\n",
      "1 - Tenis vermelho\n",
      "2 - Tenis verde\n",
      "3 - Tenis azul\n",
      "0 - Sair\n",
      "Escolha uma opção:\n",
      "1 - Criar meu avatar\n",
      "2 - Ver meu avatar\n",
      "3 - Mudar meu avatar\n",
      "4 - Ajuda\n",
      "0 - Sair\n",
      "Escolha uma opção:\n",
      "1 - Criar meu avatar\n",
      "2 - Ver meu avatar\n",
      "3 - Mudar meu avatar\n",
      "4 - Ajuda\n",
      "0 - Sair\n",
      "Você não possui um avatar cadastrado\n",
      "Você não possui um avatar cadastrado\n",
      "Escolha uma opção:\n",
      "1 - Criar meu avatar\n",
      "2 - Ver meu avatar\n",
      "3 - Mudar meu avatar\n",
      "4 - Ajuda\n",
      "0 - Sair\n",
      "Escolha uma opção:\n",
      "1 - Criar meu avatar\n",
      "2 - Ver meu avatar\n",
      "3 - Mudar meu avatar\n",
      "4 - Ajuda\n",
      "0 - Sair\n",
      "Você não possui um avatar cadastrado\n",
      "Você não possui um avatar cadastrado\n",
      "Escolha uma opção:\n",
      "1 - Criar meu avatar\n",
      "2 - Ver meu avatar\n",
      "3 - Mudar meu avatar\n",
      "4 - Ajuda\n",
      "0 - Sair\n",
      "Até mais y!\n",
      "Escolha uma opção:\n",
      "1 - Criar conta\n",
      "2 - Fazer login\n",
      "3 - Conheça os Amigos da Saúde\n",
      "4 - Ajuda\n",
      "0 - Sair\n",
      "Saindo do menu, até mais!\n",
      "Operação realizada:  Conta criada\n",
      "Operação realizada:  Login efetuado\n",
      "Operação realizada:  Avatar criado\n",
      "Operação realizada:  Mudou o avatar\n",
      "Operação realizada:  Vizualizou o avatar\n",
      "Operação realizada:  Logout efetuado\n",
      "Operação realizada:  Conta criada\n",
      "Operação realizada:  Login efetuado\n",
      "Operação realizada:  Avatar criado\n",
      "Operação realizada:  Vizualizou o avatar\n",
      "Operação realizada:  Mudou o avatar\n",
      "Operação realizada:  Vizualizou o avatar\n",
      "Operação realizada:  Mudou o avatar\n",
      "Operação realizada:  Logout efetuado\n",
      "Operação realizada:  Saiu do programa\n"
     ]
    }
   ],
   "source": [
    "menu()"
   ]
  }
 ],
 "metadata": {
  "kernelspec": {
   "display_name": "Python 3",
   "language": "python",
   "name": "python3"
  },
  "language_info": {
   "codemirror_mode": {
    "name": "ipython",
    "version": 3
   },
   "file_extension": ".py",
   "mimetype": "text/x-python",
   "name": "python",
   "nbconvert_exporter": "python",
   "pygments_lexer": "ipython3",
   "version": "3.11.8"
  }
 },
 "nbformat": 4,
 "nbformat_minor": 2
}
